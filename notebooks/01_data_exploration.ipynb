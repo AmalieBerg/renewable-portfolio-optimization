{
 "cells": [
  {
   "cell_type": "markdown",
   "metadata": {},
   "source": [
    "# Phase 1: Data Exploration\n",
    "\n",
    "**Objective:** Understand ERCOT electricity market data, renewable generation patterns, and relationships between variables.\n",
    "\n",
    "**Author:** Amalie Berg  \n",
    "**Date:** October 2025\n",
    "\n",
    "---\n",
    "\n",
    "## Contents\n",
    "1. [Setup and Data Loading](#setup)\n",
    "2. [Price Analysis](#prices)\n",
    "3. [Load and Renewable Generation](#generation)\n",
    "4. [Weather Data](#weather)\n",
    "5. [Feature Relationships](#relationships)\n",
    "6. [Time Series Characteristics](#timeseries)\n",
    "7. [Key Insights](#insights)"
   ]
  },
  {
   "cell_type": "markdown",
   "metadata": {},
   "source": [
    "## 1. Setup and Data Loading <a id='setup'></a>"
   ]
  },
  {
   "cell_type": "code",
   "execution_count": null,
   "metadata": {},
   "outputs": [],
   "source": [
    "# Import libraries\n",
    "import sys\n",
    "sys.path.append('..')  # Add parent directory to path\n",
    "\n",
    "import pandas as pd\n",
    "import numpy as np\n",
    "import matplotlib.pyplot as plt\n",
    "import seaborn as sns\n",
    "from pathlib import Path\n",
    "import warnings\n",
    "warnings.filterwarnings('ignore')\n",
    "\n",
    "# Import custom modules\n",
    "from src import data_processing, visualization\n",
    "\n",
    "# Configure plotting\n",
    "sns.set_style('whitegrid')\n",
    "plt.rcParams['figure.figsize'] = (12, 6)\n",
    "\n",
    "print(\"Libraries imported successfully!\")\n",
    "print(f\"Pandas version: {pd.__version__}\")\n",
    "print(f\"NumPy version: {np.__version__}\")"
   ]
  },
  {
   "cell_type": "markdown",
   "metadata": {},
   "source": [
    "### Load Data\n",
    "\n",
    "First, let's check if data exists. If not, we'll generate it."
   ]
  },
  {
   "cell_type": "code",
   "execution_count": null,
   "metadata": {},
   "outputs": [],
   "source": [
    "# Check if processed data exists\n",
    "data_path = Path('../data/processed/merged_data.csv')\n",
    "\n",
    "if not data_path.exists():\n",
    "    print(\"Processed data not found. Running data collection...\")\n",
    "    df = data_processing.main()\n",
    "else:\n",
    "    print(\"Loading existing processed data...\")\n",
    "    df = pd.read_csv(data_path, parse_dates=['datetime'])\n",
    "\n",
    "print(f\"\\nData loaded successfully!\")\n",
    "print(f\"Shape: {df.shape}\")\n",
    "print(f\"Date range: {df['datetime'].min()} to {df['datetime'].max()}\")"
   ]
  },
  {
   "cell_type": "markdown",
   "metadata": {},
   "source": [
    "### Initial Data Inspection"
   ]
  },
  {
   "cell_type": "code",
   "execution_count": null,
   "metadata": {},
   "outputs": [],
   "source": [
    "# Display first few rows\n",
    "print(\"First 5 rows:\")\n",
    "df.head()"
   ]
  },
  {
   "cell_type": "code",
   "execution_count": null,
   "metadata": {},
   "outputs": [],
   "source": [
    "# Data types and missing values\n",
    "print(\"\\nData Info:\")\n",
    "df.info()"
   ]
  },
  {
   "cell_type": "code",
   "execution_count": null,
   "metadata": {},
   "outputs": [],
   "source": [
    "# Summary statistics\n",
    "print(\"\\nSummary Statistics:\")\n",
    "df.describe()"
   ]
  },
  {
   "cell_type": "markdown",
   "metadata": {},
   "source": [
    "## 2. Price Analysis <a id='prices'></a>\n",
    "\n",
    "Let's analyze ERCOT Day-Ahead Market (DAM) electricity prices."
   ]
  },
  {
   "cell_type": "code",
   "execution_count": null,
   "metadata": {},
   "outputs": [],
   "source": [
    "# Price time series\n",
    "visualization.plot_price_timeseries(\n",
    "    df, \n",
    "    title='ERCOT Day-Ahead Market Prices (2023-2024)',\n",
    "    save_path='price_timeseries.png'\n",
    ")\n",
    "plt.show()"
   ]
  },
  {
   "cell_type": "code",
   "execution_count": null,
   "metadata": {},
   "outputs": [],
   "source": [
    "# Price distribution\n",
    "visualization.plot_price_distribution(\n",
    "    df,\n",
    "    title='DAM Price Distribution',\n",
    "    save_path='price_distribution.png'\n",
    ")\n",
    "plt.show()"
   ]
  },
  {
   "cell_type": "code",
   "execution_count": null,
   "metadata": {},
   "outputs": [],
   "source": [
    "# Price statistics\n",
    "print(\"Price Statistics:\")\n",
    "print(f\"Mean: ${df['dam_price'].mean():.2f}/MWh\")\n",
    "print(f\"Median: ${df['dam_price'].median():.2f}/MWh\")\n",
    "print(f\"Std Dev: ${df['dam_price'].std():.2f}/MWh\")\n",
    "print(f\"Min: ${df['dam_price'].min():.2f}/MWh\")\n",
    "print(f\"Max: ${df['dam_price'].max():.2f}/MWh\")\n",
    "print(f\"\\n95th Percentile: ${df['dam_price'].quantile(0.95):.2f}/MWh\")\n",
    "print(f\"5th Percentile: ${df['dam_price'].quantile(0.05):.2f}/MWh\")\n",
    "\n",
    "# Identify price spikes (>95th percentile)\n",
    "spike_threshold = df['dam_price'].quantile(0.95)\n",
    "spikes = df[df['dam_price'] > spike_threshold]\n",
    "print(f\"\\nNumber of price spikes (>95th %ile): {len(spikes)} hours ({len(spikes)/len(df)*100:.2f}%)\")"
   ]
  },
  {
   "cell_type": "markdown",
   "metadata": {},
   "source": [
    "### Temporal Patterns"
   ]
  },
  {
   "cell_type": "code",
   "execution_count": null,
   "metadata": {},
   "outputs": [],
   "source": [
    "# Hourly patterns\n",
    "visualization.plot_hourly_patterns(\n",
    "    df,\n",
    "    value_col='dam_price',\n",
    "    title='Average Price by Hour of Day',\n",
    "    save_path='price_hourly_pattern.png'\n",
    ")\n",
    "plt.show()"
   ]
  },
  {
   "cell_type": "code",
   "execution_count": null,
   "metadata": {},
   "outputs": [],
   "source": [
    "# Seasonal patterns\n",
    "visualization.plot_seasonal_patterns(\n",
    "    df,\n",
    "    value_col='dam_price',\n",
    "    title='Average Price by Month',\n",
    "    save_path='price_seasonal_pattern.png'\n",
    ")\n",
    "plt.show()"
   ]
  },
  {
   "cell_type": "markdown",
   "metadata": {},
   "source": [
    "## 3. Load and Renewable Generation <a id='generation'></a>"
   ]
  },
  {
   "cell_type": "code",
   "execution_count": null,
   "metadata": {},
   "outputs": [],
   "source": [
    "# Plot load and generation over time\n",
    "fig, ax = plt.subplots(figsize=(14, 6))\n",
    "\n",
    "# Sample every 24 hours for cleaner plot\n",
    "df_daily = df.iloc[::24]\n",
    "\n",
    "ax.plot(df_daily['datetime'], df_daily['system_load_mw'], \n",
    "        label='System Load', alpha=0.7, linewidth=1)\n",
    "ax.plot(df_daily['datetime'], df_daily['wind_generation_mw'], \n",
    "        label='Wind Generation', alpha=0.7, linewidth=1)\n",
    "ax.plot(df_daily['datetime'], df_daily['solar_generation_mw'], \n",
    "        label='Solar Generation', alpha=0.7, linewidth=1)\n",
    "\n",
    "ax.set_xlabel('Date')\n",
    "ax.set_ylabel('Power (MW)')\n",
    "ax.set_title('System Load and Renewable Generation', fontsize=14, fontweight='bold')\n",
    "ax.legend()\n",
    "ax.grid(True, alpha=0.3)\n",
    "plt.tight_layout()\n",
    "plt.savefig('../results/figures/load_generation_timeseries.png', dpi=300, bbox_inches='tight')\n",
    "plt.show()"
   ]
  },
  {
   "cell_type": "code",
   "execution_count": null,
   "metadata": {},
   "outputs": [],
   "source": [
    "# Renewable penetration statistics\n",
    "print(\"Renewable Generation Statistics:\")\n",
    "print(f\"\\nWind Generation:\")\n",
    "print(f\"  Mean: {df['wind_generation_mw'].mean():.0f} MW\")\n",
    "print(f\"  Max: {df['wind_generation_mw'].max():.0f} MW\")\n",
    "\n",
    "print(f\"\\nSolar Generation:\")\n",
    "print(f\"  Mean: {df['solar_generation_mw'].mean():.0f} MW\")\n",
    "print(f\"  Max: {df['solar_generation_mw'].max():.0f} MW\")\n",
    "\n",
    "print(f\"\\nRenewable Penetration:\")\n",
    "print(f\"  Mean: {df['renewable_penetration'].mean()*100:.1f}%\")\n",
    "print(f\"  Max: {df['renewable_penetration'].max()*100:.1f}%\")"
   ]
  },
  {
   "cell_type": "markdown",
   "metadata": {},
   "source": [
    "## 4. Weather Data <a id='weather'></a>"
   ]
  },
  {
   "cell_type": "code",
   "execution_count": null,
   "metadata": {},
   "outputs": [],
   "source": [
    "# Weather patterns\n",
    "fig, axes = plt.subplots(3, 1, figsize=(14, 12))\n",
    "\n",
    "# Temperature\n",
    "axes[0].plot(df['datetime'], df['temperature_f'], linewidth=0.5, alpha=0.7)\n",
    "axes[0].set_ylabel('Temperature (°F)')\n",
    "axes[0].set_title('Temperature Over Time', fontweight='bold')\n",
    "axes[0].grid(True, alpha=0.3)\n",
    "\n",
    "# Solar irradiance\n",
    "axes[1].plot(df['datetime'], df['solar_irradiance_w_m2'], linewidth=0.5, alpha=0.7, color='orange')\n",
    "axes[1].set_ylabel('Solar Irradiance (W/m²)')\n",
    "axes[1].set_title('Solar Irradiance Over Time', fontweight='bold')\n",
    "axes[1].grid(True, alpha=0.3)\n",
    "\n",
    "# Wind speed\n",
    "axes[2].plot(df['datetime'], df['wind_speed_ms'], linewidth=0.5, alpha=0.7, color='green')\n",
    "axes[2].set_ylabel('Wind Speed (m/s)')\n",
    "axes[2].set_xlabel('Date')\n",
    "axes[2].set_title('Wind Speed Over Time', fontweight='bold')\n",
    "axes[2].grid(True, alpha=0.3)\n",
    "\n",
    "plt.tight_layout()\n",
    "plt.savefig('../results/figures/weather_timeseries.png', dpi=300, bbox_inches='tight')\n",
    "plt.show()"
   ]
  },
  {
   "cell_type": "markdown",
   "metadata": {},
   "source": [
    "## 5. Feature Relationships <a id='relationships'></a>"
   ]
  },
  {
   "cell_type": "code",
   "execution_count": null,
   "metadata": {},
   "outputs": [],
   "source": [
    "# Select key features for correlation analysis\n",
    "key_features = [\n",
    "    'dam_price', 'system_load_mw', 'wind_generation_mw', \n",
    "    'solar_generation_mw', 'total_renewable_mw',\n",
    "    'temperature_f', 'solar_irradiance_w_m2', 'wind_speed_ms',\n",
    "    'renewable_penetration', 'hour', 'is_weekend'\n",
    "]\n",
    "\n",
    "visualization.plot_correlation_heatmap(\n",
    "    df[key_features],\n",
    "    title='Feature Correlation Matrix',\n",
    "    save_path='correlation_heatmap.png'\n",
    ")\n",
    "plt.show()"
   ]
  },
  {
   "cell_type": "code",
   "execution_count": null,
   "metadata": {},
   "outputs": [],
   "source": [
    "# Price vs Load\n",
    "visualization.plot_scatter_with_regression(\n",
    "    df.sample(n=min(5000, len(df))),  # Sample for cleaner plot\n",
    "    'system_load_mw',\n",
    "    'dam_price',\n",
    "    title='Price vs System Load',\n",
    "    save_path='price_vs_load.png'\n",
    ")\n",
    "plt.show()"
   ]
  },
  {
   "cell_type": "code",
   "execution_count": null,
   "metadata": {},
   "outputs": [],
   "source": [
    "# Price vs Renewable Penetration\n",
    "visualization.plot_scatter_with_regression(\n",
    "    df.sample(n=min(5000, len(df))),\n",
    "    'renewable_penetration',\n",
    "    'dam_price',\n",
    "    title='Price vs Renewable Penetration',\n",
    "    save_path='price_vs_renewables.png'\n",
    ")\n",
    "plt.show()"
   ]
  },
  {
   "cell_type": "markdown",
   "metadata": {},
   "source": [
    "## 6. Time Series Characteristics <a id='timeseries'></a>\n",
    "\n",
    "Check for stationarity, autocorrelation, and other time series properties."
   ]
  },
  {
   "cell_type": "code",
   "execution_count": null,
   "metadata": {},
   "outputs": [],
   "source": [
    "from statsmodels.graphics.tsaplots import plot_acf, plot_pacf\n",
    "from statsmodels.tsa.stattools import adfuller\n",
    "\n",
    "# Augmented Dickey-Fuller test for stationarity\n",
    "adf_result = adfuller(df['dam_price'].dropna())\n",
    "print(\"Augmented Dickey-Fuller Test for Price:\")\n",
    "print(f\"ADF Statistic: {adf_result[0]:.4f}\")\n",
    "print(f\"p-value: {adf_result[1]:.4f}\")\n",
    "print(f\"Critical Values:\")\n",
    "for key, value in adf_result[4].items():\n",
    "    print(f\"  {key}: {value:.3f}\")\n",
    "\n",
    "if adf_result[1] < 0.05:\n",
    "    print(\"\\nConclusion: Price series is STATIONARY (reject null hypothesis)\")\n",
    "else:\n",
    "    print(\"\\nConclusion: Price series is NON-STATIONARY (fail to reject null hypothesis)\")"
   ]
  },
  {
   "cell_type": "code",
   "execution_count": null,
   "metadata": {},
   "outputs": [],
   "source": [
    "# ACF and PACF plots\n",
    "fig, axes = plt.subplots(2, 1, figsize=(12, 8))\n",
    "\n",
    "plot_acf(df['dam_price'].dropna(), lags=168, ax=axes[0])  # 1 week of hourly data\n",
    "axes[0].set_title('Autocorrelation Function (ACF) - DAM Price', fontweight='bold')\n",
    "\n",
    "plot_pacf(df['dam_price'].dropna(), lags=168, ax=axes[1])\n",
    "axes[1].set_title('Partial Autocorrelation Function (PACF) - DAM Price', fontweight='bold')\n",
    "\n",
    "plt.tight_layout()\n",
    "plt.savefig('../results/figures/price_acf_pacf.png', dpi=300, bbox_inches='tight')\n",
    "plt.show()"
   ]
  },
  {
   "cell_type": "markdown",
   "metadata": {},
   "source": [
    "## 7. Key Insights <a id='insights'></a>\n",
    "\n",
    "### Summary Dashboard"
   ]
  },
  {
   "cell_type": "code",
   "execution_count": null,
   "metadata": {},
   "outputs": [],
   "source": [
    "# Create comprehensive dashboard\n",
    "visualization.create_summary_dashboard(df)\n",
    "plt.show()"
   ]
  },
  {
   "cell_type": "markdown",
   "metadata": {},
   "source": [
    "### Key Findings\n",
    "\n",
    "**Price Characteristics:**\n",
    "1. Prices show strong hourly patterns (peak during day, low at night)\n",
    "2. Seasonal variation with higher prices in summer/winter\n",
    "3. Occasional price spikes indicating scarcity conditions\n",
    "4. Strong autocorrelation suggests time series models will be effective\n",
    "\n",
    "**Renewable Generation:**\n",
    "1. Wind generation is relatively steady but with high variability\n",
    "2. Solar follows clear diurnal pattern (zero at night)\n",
    "3. Combined renewables contribute significant portion of supply\n",
    "\n",
    "**Relationships:**\n",
    "1. Positive correlation between load and price (demand driving prices)\n",
    "2. Temperature affects both load (cooling/heating demand) and prices\n",
    "3. Higher renewable penetration may be associated with lower prices (merit order effect)\n",
    "\n",
    "**Implications for Modeling:**\n",
    "1. Need to capture hourly and seasonal patterns\n",
    "2. GARCH models appropriate for volatility clustering\n",
    "3. Weather variables are important predictors\n",
    "4. Must account for renewable generation uncertainty in portfolio optimization\n",
    "\n",
    "---\n",
    "\n",
    "## Next Steps\n",
    "\n",
    "1. **Phase 2:** Build price forecasting models (GARCH, ARIMA, XGBoost, LSTM)\n",
    "2. **Phase 3:** Model renewable generation with Monte Carlo simulation\n",
    "3. **Phase 4:** Optimize portfolio allocation\n",
    "4. **Phase 5:** Develop and backtest hedging strategies"
   ]
  },
  {
   "cell_type": "markdown",
   "metadata": {},
   "source": [
    "---\n",
    "\n",
    "**End of Notebook**\n",
    "\n",
    "Save your work and proceed to `02_price_forecasting.ipynb`"
   ]
  }
 ],
 "metadata": {
  "kernelspec": {
   "display_name": "Python 3",
   "language": "python",
   "name": "python3"
  },
  "language_info": {
   "codemirror_mode": {
    "name": "ipython",
    "version": 3
   },
   "file_extension": ".py",
   "mimetype": "text/x-python",
   "name": "python",
   "nbconvert_exporter": "python",
   "pygments_lexer": "ipython3",
   "version": "3.9.0"
  }
 },
 "nbformat": 4,
 "nbformat_minor": 4
}
